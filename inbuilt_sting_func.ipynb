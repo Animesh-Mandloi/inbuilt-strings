{
 "cells": [
  {
   "cell_type": "code",
   "execution_count": null,
   "id": "4bdd491f-50fa-4823-a352-6562768d0962",
   "metadata": {},
   "outputs": [],
   "source": [
    "#Usage with Strings:\n",
    "\n",
    "string = \"Hello, World!\"\n",
    "length = len(string)\n",
    "print(length)  "
   ]
  },
  {
   "cell_type": "code",
   "execution_count": null,
   "id": "6954e295-1b70-4077-abd6-b2aa18cc05d3",
   "metadata": {},
   "outputs": [],
   "source": [
    "#Example of String Concatenation:\n",
    "\n",
    "string1 = \"Hello\"\n",
    "string2 = \"World\"\n",
    "result = string1 + \" \" + string2\n",
    "print(result)  "
   ]
  },
  {
   "cell_type": "code",
   "execution_count": null,
   "id": "2f654a60-80d6-418e-b6e0-c9ccc0db48c1",
   "metadata": {},
   "outputs": [],
   "source": [
    "#3. String Slicing in Python\n",
    "\n",
    "string = \"Hello, World!\"\n",
    "substring = string[7:12]  \n",
    "print(substring) "
   ]
  },
  {
   "cell_type": "code",
   "execution_count": null,
   "id": "7c9f0a2f-1330-4a26-9b28-74ee7d8259d1",
   "metadata": {},
   "outputs": [],
   "source": [
    "#4. Changing the Case of a String\n",
    "\n",
    "string = \"Hello, World!\"\n",
    "\n",
    "uppercase_string = string.upper()\n",
    "print(uppercase_string)  \n",
    "\n",
    "lowercase_string = string.lower()\n",
    "print(lowercase_string)  \n"
   ]
  },
  {
   "cell_type": "code",
   "execution_count": null,
   "id": "a99049b7-242d-4a07-98a5-015798566f5f",
   "metadata": {},
   "outputs": [],
   "source": [
    "#5. The split() Method in Python\n",
    "\n",
    "string = \"apple,banana,cherry\"\n",
    "list_of_fruits = string.split(\",\")  # Split by comma\n",
    "print(list_of_fruits)  # Output: ['apple', 'banana', 'cherry']\n"
   ]
  }
 ],
 "metadata": {
  "kernelspec": {
   "display_name": "Python 3 (ipykernel)",
   "language": "python",
   "name": "python3"
  },
  "language_info": {
   "codemirror_mode": {
    "name": "ipython",
    "version": 3
   },
   "file_extension": ".py",
   "mimetype": "text/x-python",
   "name": "python",
   "nbconvert_exporter": "python",
   "pygments_lexer": "ipython3",
   "version": "3.12.2"
  }
 },
 "nbformat": 4,
 "nbformat_minor": 5
}
